{
 "cells": [
  {
   "cell_type": "code",
   "execution_count": 1,
   "id": "d32cd04a",
   "metadata": {},
   "outputs": [
    {
     "name": "stdout",
     "output_type": "stream",
     "text": [
      "Categoria: Adulto\n"
     ]
    }
   ],
   "source": [
    "# 1- Classificador de Idade\n",
    "\n",
    "# Crie um programa que solicite a idade do usuário e classifique-o \n",
    "# em uma das seguintes categorias: \n",
    "\n",
    "# *Criança (0-12 anos), \n",
    "# *Adolescente (13-17 anos), \n",
    "# *Adulto (18-59 anos) ou \n",
    "# *Idoso (60 anos ou mais).\n",
    "idade = int(input(\"Digite sua idade: \"))\n",
    "\n",
    "if 0 <= idade <= 12:\n",
    "    print(\"Categoria: Criança\")\n",
    "elif 13 <= idade <= 17:\n",
    "    print(\"Categoria: Adolescente\")\n",
    "elif 18 <= idade <= 59:\n",
    "    print(\"Categoria: Adulto\")\n",
    "elif idade >= 60:\n",
    "    print(\"Categoria: Idoso\")\n",
    "else:\n",
    "    print(\"Idade inválida.\")\n",
    "\n",
    "            \n"
   ]
  },
  {
   "cell_type": "code",
   "execution_count": 3,
   "id": "bf729195",
   "metadata": {},
   "outputs": [
    {
     "name": "stdout",
     "output_type": "stream",
     "text": [
      "IMC: 25.43 - Sobrepeso\n"
     ]
    }
   ],
   "source": [
    "# 2- Calculadora de IMC\n",
    "\n",
    "# Desenvolva um programa que calcule o Índice de Massa Corporal (IMC) de uma pessoa. \n",
    "# O programa deve solicitar o peso (em kg) e a altura (em metros) do usuário, \n",
    "# calcular o IMC e fornecer a classificação de acordo com a tabela padrão de IMC.\n",
    "\n",
    "# < 18.5: classificacao = \"Abaixo do peso\"\n",
    "# < 25: classificacao = \"Peso normal\"\n",
    "# < 30: classificacao = \"Sobrepeso\"\n",
    "# Para os demais cenários: classificacao = \"Obeso\"\n",
    "\n",
    "peso = float(input(\"Digite seu peso (kg): \"))\n",
    "altura = float(input(\"Digite sua altura (m): \"))\n",
    "\n",
    "imc = peso / (altura ** 2)\n",
    "\n",
    "if imc < 18.5:\n",
    "    classificacao = \"Abaixo do peso\"\n",
    "elif imc < 25:\n",
    "    classificacao = \"Peso normal\"\n",
    "elif imc < 30:\n",
    "    classificacao = \"Sobrepeso\"\n",
    "else:\n",
    "    classificacao = \"Obeso\"\n",
    "\n",
    "print(f\"IMC: {imc:.2f} - {classificacao}\")\n"
   ]
  },
  {
   "cell_type": "code",
   "execution_count": 4,
   "id": "5cf39620",
   "metadata": {},
   "outputs": [
    {
     "name": "stdout",
     "output_type": "stream",
     "text": [
      "35.0°C = 95.00°F\n"
     ]
    }
   ],
   "source": [
    "# 3- Conversor de Temperatura\n",
    "# Crie um programa que converta temperaturas entre Celsius, Fahrenheit e Kelvin. \n",
    "# O usuário deve informar a temperatura, a unidade de origem e a unidade para qual deseja converter.\n",
    "\n",
    "temp = float(input(\"Digite a temperatura: \"))\n",
    "origem = input(\"Unidade de origem (C/F/K): \").upper()\n",
    "destino = input(\"Converter para (C/F/K): \").upper()\n",
    "\n",
    "def converter(temp, origem, destino):\n",
    "    if origem == destino:\n",
    "        return temp\n",
    "    if origem == \"C\":\n",
    "        return temp + 273.15 if destino == \"K\" else (temp * 9/5) + 32\n",
    "    if origem == \"F\":\n",
    "        return (temp - 32) * 5/9 if destino == \"C\" else ((temp - 32) * 5/9) + 273.15\n",
    "    if origem == \"K\":\n",
    "        return temp - 273.15 if destino == \"C\" else ((temp - 273.15) * 9/5) + 32\n",
    "\n",
    "resultado = converter(temp, origem, destino)\n",
    "print(f\"{temp}°{origem} = {resultado:.2f}°{destino}\")\n"
   ]
  },
  {
   "cell_type": "code",
   "execution_count": 6,
   "id": "ebfac9d9",
   "metadata": {},
   "outputs": [
    {
     "name": "stdout",
     "output_type": "stream",
     "text": [
      "2000 é um ano bissexto.\n"
     ]
    }
   ],
   "source": [
    "# 4- Verificador de Ano Bissexto\n",
    "\n",
    "# Faça um programa que determine se um ano inserido pelo usuário é bissexto ou não. \n",
    "# Um ano é bissexto se for divisível por 4, exceto anos centenários (divisíveis por 100) que não são divisíveis por 400.\n",
    "\n",
    "\n",
    "ano = int(input(\"Digite o ano: \"))\n",
    "\n",
    "if (ano % 4 == 0 and ano % 100 != 0) or (ano % 400 == 0):\n",
    "    print(f\"{ano} é um ano bissexto.\")\n",
    "else:\n",
    "    print(f\"{ano} não é um ano bissexto.\")\n"
   ]
  }
 ],
 "metadata": {
  "kernelspec": {
   "display_name": "Python 3",
   "language": "python",
   "name": "python3"
  },
  "language_info": {
   "codemirror_mode": {
    "name": "ipython",
    "version": 3
   },
   "file_extension": ".py",
   "mimetype": "text/x-python",
   "name": "python",
   "nbconvert_exporter": "python",
   "pygments_lexer": "ipython3",
   "version": "3.12.1"
  }
 },
 "nbformat": 4,
 "nbformat_minor": 5
}
