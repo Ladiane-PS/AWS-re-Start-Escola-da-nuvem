{
 "cells": [
  {
   "cell_type": "markdown",
   "id": "0d6b035b",
   "metadata": {},
   "source": [
    "1. Programa de Saudação"
   ]
  },
  {
   "cell_type": "code",
   "execution_count": 1,
   "id": "edc797b9",
   "metadata": {},
   "outputs": [
    {
     "name": "stdout",
     "output_type": "stream",
     "text": [
      "Olá, mundo!\n"
     ]
    }
   ],
   "source": [
    "print(\"Olá, mundo!\")\n"
   ]
  },
  {
   "cell_type": "markdown",
   "id": "a34cf0ed",
   "metadata": {},
   "source": [
    " 2. Calculadora de Soma"
   ]
  },
  {
   "cell_type": "code",
   "execution_count": 3,
   "id": "8a2f1e62",
   "metadata": {},
   "outputs": [
    {
     "name": "stdout",
     "output_type": "stream",
     "text": [
      "Resultado da soma: 26\n"
     ]
    }
   ],
   "source": [
    "numero1 = 12\n",
    "numero2 = 14\n",
    "soma = numero1 + numero2\n",
    "print(\"Resultado da soma:\", soma)"
   ]
  },
  {
   "cell_type": "markdown",
   "id": "455c4247",
   "metadata": {},
   "source": [
    " 3. Calculadora de Volume"
   ]
  },
  {
   "cell_type": "code",
   "execution_count": 4,
   "id": "138b8795",
   "metadata": {},
   "outputs": [
    {
     "name": "stdout",
     "output_type": "stream",
     "text": [
      "Volume da caixa: 3360 cm³\n"
     ]
    }
   ],
   "source": [
    "comprimento = 12\n",
    "largura = 14\n",
    "altura = 20\n",
    "volume = comprimento * largura * altura\n",
    "print(\"Volume da caixa:\", volume, \"cm³\")\n"
   ]
  },
  {
   "cell_type": "markdown",
   "id": "ff94ef3e",
   "metadata": {},
   "source": [
    " 4. Calculadora de Preço Total"
   ]
  },
  {
   "cell_type": "code",
   "execution_count": 5,
   "id": "305df119",
   "metadata": {},
   "outputs": [
    {
     "name": "stdout",
     "output_type": "stream",
     "text": [
      "Produto: Cadeira Infantil\n",
      "Preço unitário: R$ 12.4\n",
      "Quantidade: 3\n",
      "Preço total: R$ 37.2\n"
     ]
    }
   ],
   "source": [
    "produto = \"Cadeira Infantil\"\n",
    "preco_unitario = 12.40\n",
    "quantidade = 3\n",
    "preco_total = preco_unitario * quantidade\n",
    "\n",
    "print(\"Produto:\", produto)\n",
    "print(\"Preço unitário: R$\", preco_unitario)\n",
    "print(\"Quantidade:\", quantidade)\n",
    "print(\"Preço total: R$\", round(preco_total, 2))\n"
   ]
  }
 ],
 "metadata": {
  "kernelspec": {
   "display_name": "Python 3",
   "language": "python",
   "name": "python3"
  },
  "language_info": {
   "codemirror_mode": {
    "name": "ipython",
    "version": 3
   },
   "file_extension": ".py",
   "mimetype": "text/x-python",
   "name": "python",
   "nbconvert_exporter": "python",
   "pygments_lexer": "ipython3",
   "version": "3.12.1"
  }
 },
 "nbformat": 4,
 "nbformat_minor": 5
}
